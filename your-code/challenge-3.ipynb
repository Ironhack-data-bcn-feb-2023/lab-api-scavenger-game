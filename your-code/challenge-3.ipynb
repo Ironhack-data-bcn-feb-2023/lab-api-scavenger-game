{
 "cells": [
  {
   "cell_type": "markdown",
   "id": "defensive-clock",
   "metadata": {},
   "source": [
    "# Challenge 3: Hidden Cold Joke\n",
    "\n",
    "Using Python, call Github API to find out the cold joke contained in the 24 secret files in the following repo:\n",
    "\n",
    "https://github.com/ironhack-datalabs/scavenger\n",
    "\n",
    "The filenames of the secret files contain .scavengerhunt and they are scattered in different directories of this repo. The secret files are named from .0001.scavengerhunt to .0024.scavengerhunt. They are scattered randomly throughout this repo. You need to search for these files by calling the Github API, not searching the local files on your computer.\n",
    "\n",
    "\n",
    "After you find out the secrete files:\n",
    "\n",
    "Sort the filenames ascendingly.\n",
    "\n",
    "Read the content of each secret files into an array of strings.\n",
    "\n",
    "Concatenate the strings in the array separating each two with a whitespace.\n",
    "\n",
    "Print out the joke."
   ]
  },
  {
   "cell_type": "markdown",
   "id": "universal-length",
   "metadata": {},
   "source": [
    "⚠️ **Remember to limit your output before submission**."
   ]
  },
  {
   "cell_type": "code",
   "execution_count": 5,
   "id": "toxic-trading",
   "metadata": {},
   "outputs": [],
   "source": [
    "# Your code"
   ]
  },
  {
   "cell_type": "code",
   "execution_count": 11,
   "id": "4fd524b0",
   "metadata": {},
   "outputs": [],
   "source": [
    "import os\n",
    "import requests\n",
    "from dotenv import load_dotenv #conda install -c conda-forge python-dotenv\n",
    "import getpass"
   ]
  },
  {
   "cell_type": "code",
   "execution_count": 8,
   "id": "cff74db4",
   "metadata": {},
   "outputs": [
    {
     "name": "stdout",
     "output_type": "stream",
     "text": [
      "token_github········\n"
     ]
    }
   ],
   "source": [
    "password = getpass.getpass('token_github')"
   ]
  },
  {
   "cell_type": "code",
   "execution_count": 9,
   "id": "fbeb3c30",
   "metadata": {},
   "outputs": [],
   "source": [
    "user = 'ironhack-datalabs'\n",
    "repo = 'scavenger'\n",
    "\n",
    "url_base = f\"https://api.github.com/repos/{user}/{repo}/contents/\"\n",
    "\n",
    "params = {\"Authentication\": f\"token {password}\"}"
   ]
  },
  {
   "cell_type": "code",
   "execution_count": 12,
   "id": "15ec8dfa",
   "metadata": {},
   "outputs": [
    {
     "ename": "NameError",
     "evalue": "name 'json' is not defined",
     "output_type": "error",
     "traceback": [
      "\u001b[1;31m---------------------------------------------------------------------------\u001b[0m",
      "\u001b[1;31mNameError\u001b[0m                                 Traceback (most recent call last)",
      "\u001b[1;32m~\\AppData\\Local\\Temp\\ipykernel_25408\\355053029.py\u001b[0m in \u001b[0;36m<module>\u001b[1;34m\u001b[0m\n\u001b[0;32m      1\u001b[0m \u001b[0mresponse\u001b[0m \u001b[1;33m=\u001b[0m \u001b[0mrequests\u001b[0m\u001b[1;33m.\u001b[0m\u001b[0mget\u001b[0m\u001b[1;33m(\u001b[0m\u001b[0murl_base\u001b[0m\u001b[1;33m,\u001b[0m \u001b[0mparams\u001b[0m\u001b[1;33m=\u001b[0m\u001b[0mparams\u001b[0m\u001b[1;33m)\u001b[0m\u001b[1;33m.\u001b[0m\u001b[0mjson\u001b[0m\u001b[1;33m(\u001b[0m\u001b[1;33m)\u001b[0m\u001b[1;33m\u001b[0m\u001b[1;33m\u001b[0m\u001b[0m\n\u001b[0;32m      2\u001b[0m \u001b[0mresponse\u001b[0m\u001b[1;33m\u001b[0m\u001b[1;33m\u001b[0m\u001b[0m\n\u001b[1;32m----> 3\u001b[1;33m \u001b[0mjson\u001b[0m\u001b[1;33m.\u001b[0m\u001b[0mdumps\u001b[0m\u001b[1;33m(\u001b[0m\u001b[0mresponse\u001b[0m\u001b[1;33m,\u001b[0m \u001b[0mindent\u001b[0m\u001b[1;33m=\u001b[0m\u001b[1;36m6\u001b[0m\u001b[1;33m)\u001b[0m\u001b[1;33m\u001b[0m\u001b[1;33m\u001b[0m\u001b[0m\n\u001b[0m",
      "\u001b[1;31mNameError\u001b[0m: name 'json' is not defined"
     ]
    }
   ],
   "source": [
    "response = requests.get(url_base, params=params).json()\n",
    "response\n",
    "json.dumps(response, indent=6)"
   ]
  },
  {
   "cell_type": "code",
   "execution_count": 6,
   "id": "08c91ca1",
   "metadata": {},
   "outputs": [
    {
     "data": {
      "text/plain": [
       "[{'name': '.0001.scavengerhunt',\n",
       "  'path': '98750/.0001.scavengerhunt',\n",
       "  'sha': '2add7632f1323136324efbf38ec66db1838b6173',\n",
       "  'size': 3,\n",
       "  'url': 'https://api.github.com/repos/ironhack-datalabs/scavenger/contents/98750/.0001.scavengerhunt?ref=master',\n",
       "  'html_url': 'https://github.com/ironhack-datalabs/scavenger/blob/master/98750/.0001.scavengerhunt',\n",
       "  'git_url': 'https://api.github.com/repos/ironhack-datalabs/scavenger/git/blobs/2add7632f1323136324efbf38ec66db1838b6173',\n",
       "  'download_url': 'https://raw.githubusercontent.com/ironhack-datalabs/scavenger/master/98750/.0001.scavengerhunt',\n",
       "  'type': 'file',\n",
       "  '_links': {'self': 'https://api.github.com/repos/ironhack-datalabs/scavenger/contents/98750/.0001.scavengerhunt?ref=master',\n",
       "   'git': 'https://api.github.com/repos/ironhack-datalabs/scavenger/git/blobs/2add7632f1323136324efbf38ec66db1838b6173',\n",
       "   'html': 'https://github.com/ironhack-datalabs/scavenger/blob/master/98750/.0001.scavengerhunt'}},\n",
       " {'name': '20',\n",
       "  'path': '98750/20',\n",
       "  'sha': 'e69de29bb2d1d6434b8b29ae775ad8c2e48c5391',\n",
       "  'size': 0,\n",
       "  'url': 'https://api.github.com/repos/ironhack-datalabs/scavenger/contents/98750/20?ref=master',\n",
       "  'html_url': 'https://github.com/ironhack-datalabs/scavenger/blob/master/98750/20',\n",
       "  'git_url': 'https://api.github.com/repos/ironhack-datalabs/scavenger/git/blobs/e69de29bb2d1d6434b8b29ae775ad8c2e48c5391',\n",
       "  'download_url': 'https://raw.githubusercontent.com/ironhack-datalabs/scavenger/master/98750/20',\n",
       "  'type': 'file',\n",
       "  '_links': {'self': 'https://api.github.com/repos/ironhack-datalabs/scavenger/contents/98750/20?ref=master',\n",
       "   'git': 'https://api.github.com/repos/ironhack-datalabs/scavenger/git/blobs/e69de29bb2d1d6434b8b29ae775ad8c2e48c5391',\n",
       "   'html': 'https://github.com/ironhack-datalabs/scavenger/blob/master/98750/20'}},\n",
       " {'name': '62',\n",
       "  'path': '98750/62',\n",
       "  'sha': 'e69de29bb2d1d6434b8b29ae775ad8c2e48c5391',\n",
       "  'size': 0,\n",
       "  'url': 'https://api.github.com/repos/ironhack-datalabs/scavenger/contents/98750/62?ref=master',\n",
       "  'html_url': 'https://github.com/ironhack-datalabs/scavenger/blob/master/98750/62',\n",
       "  'git_url': 'https://api.github.com/repos/ironhack-datalabs/scavenger/git/blobs/e69de29bb2d1d6434b8b29ae775ad8c2e48c5391',\n",
       "  'download_url': 'https://raw.githubusercontent.com/ironhack-datalabs/scavenger/master/98750/62',\n",
       "  'type': 'file',\n",
       "  '_links': {'self': 'https://api.github.com/repos/ironhack-datalabs/scavenger/contents/98750/62?ref=master',\n",
       "   'git': 'https://api.github.com/repos/ironhack-datalabs/scavenger/git/blobs/e69de29bb2d1d6434b8b29ae775ad8c2e48c5391',\n",
       "   'html': 'https://github.com/ironhack-datalabs/scavenger/blob/master/98750/62'}}]"
      ]
     },
     "execution_count": 6,
     "metadata": {},
     "output_type": "execute_result"
    }
   ],
   "source": [
    "for i in response: \n",
    "    if i['type'] == 'dir': #carpetas donde esta el archivo scavenger\n",
    "        subfolder_url = i['url']\n",
    "        subfolder_response = requests.get(subfolder_url, params = params).json()\n",
    "subfolder_response\n",
    "        "
   ]
  },
  {
   "cell_type": "code",
   "execution_count": 2,
   "id": "static-stopping",
   "metadata": {},
   "outputs": [],
   "source": [
    "# Example: print(variable[:10]) "
   ]
  }
 ],
 "metadata": {
  "kernelspec": {
   "display_name": "Python 3 (ipykernel)",
   "language": "python",
   "name": "python3"
  },
  "language_info": {
   "codemirror_mode": {
    "name": "ipython",
    "version": 3
   },
   "file_extension": ".py",
   "mimetype": "text/x-python",
   "name": "python",
   "nbconvert_exporter": "python",
   "pygments_lexer": "ipython3",
   "version": "3.9.13"
  },
  "toc": {
   "base_numbering": 1,
   "nav_menu": {},
   "number_sections": true,
   "sideBar": true,
   "skip_h1_title": true,
   "title_cell": "Table of Contents",
   "title_sidebar": "Contents",
   "toc_cell": false,
   "toc_position": {},
   "toc_section_display": true,
   "toc_window_display": true
  }
 },
 "nbformat": 4,
 "nbformat_minor": 5
}
