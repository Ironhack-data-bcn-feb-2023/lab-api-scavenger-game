{
 "cells": [
  {
   "cell_type": "markdown",
   "id": "defensive-clock",
   "metadata": {},
   "source": [
    "# Challenge 3: Hidden Cold Joke\n",
    "\n",
    "Using Python, call Github API to find out the cold joke contained in the 24 secret files in the following repo:\n",
    "\n",
    "https://github.com/ironhack-datalabs/scavenger\n",
    "\n",
    "The filenames of the secret files contain .scavengerhunt and they are scattered in different directories of this repo. The secret files are named from .0001.scavengerhunt to .0024.scavengerhunt. They are scattered randomly throughout this repo. You need to search for these files by calling the Github API, not searching the local files on your computer.\n",
    "\n",
    "\n",
    "After you find out the secrete files:\n",
    "\n",
    "Sort the filenames ascendingly.\n",
    "\n",
    "Read the content of each secret files into an array of strings.\n",
    "\n",
    "Concatenate the strings in the array separating each two with a whitespace.\n",
    "\n",
    "Print out the joke."
   ]
  },
  {
   "cell_type": "markdown",
   "id": "universal-length",
   "metadata": {},
   "source": [
    "⚠️ **Remember to limit your output before submission**."
   ]
  },
  {
   "cell_type": "code",
   "execution_count": 10,
   "id": "1167daff",
   "metadata": {},
   "outputs": [],
   "source": [
    "import requests\n",
    "import base64\n",
    "import operator\n",
    "import os\n",
    "import time"
   ]
  },
  {
   "cell_type": "code",
   "execution_count": 7,
   "id": "62bca93c",
   "metadata": {},
   "outputs": [],
   "source": [
    "git_token = os.environ.get('git_token')\n"
   ]
  },
  {
   "cell_type": "code",
   "execution_count": 8,
   "id": "toxic-trading",
   "metadata": {},
   "outputs": [
    {
     "ename": "KeyError",
     "evalue": "'items'",
     "output_type": "error",
     "traceback": [
      "\u001b[0;31m---------------------------------------------------------------------------\u001b[0m",
      "\u001b[0;31mKeyError\u001b[0m                                  Traceback (most recent call last)",
      "Cell \u001b[0;32mIn[8], line 21\u001b[0m\n\u001b[1;32m     18\u001b[0m data \u001b[39m=\u001b[39m response\u001b[39m.\u001b[39mjson()\n\u001b[1;32m     20\u001b[0m \u001b[39m# Sort the items by file name\u001b[39;00m\n\u001b[0;32m---> 21\u001b[0m items \u001b[39m=\u001b[39m \u001b[39msorted\u001b[39m(data[\u001b[39m'\u001b[39;49m\u001b[39mitems\u001b[39;49m\u001b[39m'\u001b[39;49m], key\u001b[39m=\u001b[39m\u001b[39mlambda\u001b[39;00m x: x[\u001b[39m'\u001b[39m\u001b[39mname\u001b[39m\u001b[39m'\u001b[39m])\n\u001b[1;32m     23\u001b[0m \u001b[39m# Initialize a list to hold the content of the files\u001b[39;00m\n\u001b[1;32m     24\u001b[0m file_contents \u001b[39m=\u001b[39m []\n",
      "\u001b[0;31mKeyError\u001b[0m: 'items'"
     ]
    }
   ],
   "source": [
    "url = \"https://api.github.com/search/code\"\n",
    "\n",
    "\n",
    "headers = {\n",
    "    'Authorization': 'git_token', # replace 'YOUR_GITHUB_TOKEN' with your actual GitHub Personal Access Token\n",
    "    'Accept': 'application/vnd.github.v3+json',\n",
    "}\n",
    "\n",
    "# Define parameters to search for the secret files\n",
    "params = {\n",
    "    'q': 'repo:ironhack-datalabs/scavenger in:path .scavengerhunt'\n",
    "}\n",
    "\n",
    "# Make the request\n",
    "response = requests.get(url, headers=headers, params=params)\n",
    "\n",
    "# Parse the JSON response\n",
    "data = response.json()\n",
    "\n",
    "# Sort the items by file name\n",
    "items = sorted(data['items'], key=lambda x: x['name'])\n",
    "\n",
    "# Initialize a list to hold the content of the files\n",
    "file_contents = []\n",
    "\n",
    "# Go through each file, fetch the file content and append it to the list\n",
    "for item in items:\n",
    "    response = requests.get(item['url'], headers=headers)\n",
    "    file_data = response.json()\n",
    "    content = base64.b64decode(file_data['content']).decode('utf-8').strip()\n",
    "    file_contents.append(content)\n",
    "\n",
    "# Join the file contents with a whitespace and print the joke\n",
    "joke = ' '.join(file_contents)\n",
    "print(joke)"
   ]
  },
  {
   "cell_type": "code",
   "execution_count": 20,
   "id": "e746992a",
   "metadata": {},
   "outputs": [
    {
     "name": "stdout",
     "output_type": "stream",
     "text": [
      "{'message': 'Bad credentials', 'documentation_url': 'https://docs.github.com/rest'}\n"
     ]
    }
   ],
   "source": [
    "token = os.getenv('GITHUB_TOKEN')\n",
    "\n",
    "# Define API endpoint\n",
    "url = \"https://api.github.com/search/code\"\n",
    "\n",
    "# Define headers to use the API version that includes the commit details\n",
    "headers = {\n",
    "    'Authorization': f'token {token}',  # use f-string to include the token variable\n",
    "    'Accept': 'application/vnd.github.v3+json',\n",
    "}\n",
    "\n",
    "# Define parameters to search for the secret files\n",
    "params = {\n",
    "    'q': 'repo:ironhack-datalabs/scavenger in:path .scavengerhunt'\n",
    "}\n",
    "\n",
    "# Make the request\n",
    "response = requests.get(url, headers=headers, params=params)\n",
    "\n",
    "# Check if we hit the rate limit\n",
    "if response.status_code == 403:\n",
    "    reset_time = int(response.headers['X-RateLimit-Reset'])\n",
    "    reset_time = max(reset_time - time.time(), 0)\n",
    "    print(f\"Rate limit exceeded. Sleeping for {reset_time} seconds.\")\n",
    "    time.sleep(reset_time)\n",
    "    response = requests.get(url, headers=headers, params=params)\n",
    "\n",
    "# Parse the JSON response\n",
    "data = response.json()\n",
    "\n",
    "# print the data\n",
    "print(data)"
   ]
  },
  {
   "cell_type": "code",
   "execution_count": null,
   "id": "1b752eda",
   "metadata": {},
   "outputs": [],
   "source": []
  }
 ],
 "metadata": {
  "kernelspec": {
   "display_name": "Python 3",
   "language": "python",
   "name": "python3"
  },
  "language_info": {
   "codemirror_mode": {
    "name": "ipython",
    "version": 3
   },
   "file_extension": ".py",
   "mimetype": "text/x-python",
   "name": "python",
   "nbconvert_exporter": "python",
   "pygments_lexer": "ipython3",
   "version": "3.11.3"
  },
  "toc": {
   "base_numbering": 1,
   "nav_menu": {},
   "number_sections": true,
   "sideBar": true,
   "skip_h1_title": true,
   "title_cell": "Table of Contents",
   "title_sidebar": "Contents",
   "toc_cell": false,
   "toc_position": {},
   "toc_section_display": true,
   "toc_window_display": true
  }
 },
 "nbformat": 4,
 "nbformat_minor": 5
}
