{
 "cells": [
  {
   "cell_type": "markdown",
   "id": "defensive-clock",
   "metadata": {},
   "source": [
    "# Challenge 3: Hidden Cold Joke\n",
    "\n",
    "Using Python, call Github API to find out the cold joke contained in the 24 secret files in the following repo:\n",
    "\n",
    "https://github.com/ironhack-datalabs/scavenger\n",
    "\n",
    "The filenames of the secret files contain .scavengerhunt and they are scattered in different directories of this repo. The secret files are named from .0001.scavengerhunt to .0024.scavengerhunt. They are scattered randomly throughout this repo. You need to search for these files by calling the Github API, not searching the local files on your computer.\n",
    "\n",
    "\n",
    "After you find out the secrete files:\n",
    "\n",
    "Sort the filenames ascendingly.\n",
    "\n",
    "Read the content of each secret files into an array of strings.\n",
    "\n",
    "Concatenate the strings in the array separating each two with a whitespace.\n",
    "\n",
    "Print out the joke."
   ]
  },
  {
   "cell_type": "markdown",
   "id": "universal-length",
   "metadata": {},
   "source": [
    "⚠️ **Remember to limit your output before submission**."
   ]
  },
  {
   "cell_type": "code",
   "execution_count": 1,
   "id": "toxic-trading",
   "metadata": {},
   "outputs": [],
   "source": [
    "import json\n",
    "import requests\n",
    "import os\n",
    "from dotenv import load_dotenv\n",
    "load_dotenv()\n",
    "\n",
    "token = os.getenv(\"token\")\n",
    "\n",
    "import base64"
   ]
  },
  {
   "attachments": {},
   "cell_type": "markdown",
   "id": "f028ebc6",
   "metadata": {},
   "source": [
    "* ##### Configuración URL & Headers"
   ]
  },
  {
   "cell_type": "code",
   "execution_count": 2,
   "id": "6cdc330c",
   "metadata": {},
   "outputs": [],
   "source": [
    "target_url = \"https://api.github.com/ironhack-datalabs/scavenger\"\n",
    "\n",
    "user     = \"ironhack-datalabs\"\n",
    "repo     = \"scavenger\"\n",
    "repo_url = f\"https://api.github.com/repos/{user}/{repo}/contents\"\n",
    "headers  = {'Authentication':f'token {token}'}"
   ]
  },
  {
   "attachments": {},
   "cell_type": "markdown",
   "id": "8401627e",
   "metadata": {},
   "source": [
    "* ##### Request al repositorio principal del lab"
   ]
  },
  {
   "cell_type": "code",
   "execution_count": 3,
   "id": "06e23bc3",
   "metadata": {},
   "outputs": [],
   "source": [
    "response = requests.get(repo_url, headers=headers)\n",
    "if response.status_code == 200:\n",
    "    data = response.json()\n",
    "else:\n",
    "    print(f\"Error: {response.status_code}\")"
   ]
  },
  {
   "attachments": {},
   "cell_type": "markdown",
   "id": "b621be74",
   "metadata": {},
   "source": [
    "* ##### Guarda las URLs de cada carpeta del repositorio, menos la del .gitignore."
   ]
  },
  {
   "cell_type": "code",
   "execution_count": 4,
   "id": "d3eb5a44",
   "metadata": {},
   "outputs": [],
   "source": [
    "urls_list = []\n",
    "for i in data:\n",
    "    if i['name'] != '.gitignore':\n",
    "        urls_list.append(i['url'])"
   ]
  },
  {
   "attachments": {},
   "cell_type": "markdown",
   "id": "e93b04c4",
   "metadata": {},
   "source": [
    "* 1) #### Accede a cada URL y al contenido dentro de esta.\n",
    "* 2) #### Guarda el contenido en un diccionario."
   ]
  },
  {
   "cell_type": "code",
   "execution_count": 5,
   "id": "3a76daca",
   "metadata": {},
   "outputs": [],
   "source": [
    "# 1\n",
    "words = {}\n",
    "\n",
    "# request a cada carpeta del repositorio\n",
    "for i in urls_list:\n",
    "    response = requests.get(i, headers=headers)\n",
    "    if response.status_code == 200:\n",
    "        data = response.json()\n",
    "        # data devuelve diccionarios por cada elemento dentro de la carpeta del repositorio\n",
    "        for i in data:\n",
    "            # programación defensiva por si devolviese otra cosa que no sea diccionario\n",
    "            if isinstance(i,dict):\n",
    "                # buscando leer sólo el contenido de los archivos objetivo\n",
    "                if '.00' in i['name']:\n",
    "                    target_url = i['url']\n",
    "                    response = requests.get(target_url, headers=headers)\n",
    "                    if response.status_code == 200:\n",
    "                        data = response.json()\n",
    "                        if 'content' in data:\n",
    "                            file_content = base64.b64decode(data['content']).decode(\"utf-8\")\n",
    "                            # 2\n",
    "                            words[data['name']] = file_content\n",
    "                        else:\n",
    "                            print(\"No content found for the file.\")\n",
    "                    else:\n",
    "                        print(f\"Error: {response.status_code}\")\n",
    "    else:\n",
    "        print(f\"Error: {response.status_code}\")"
   ]
  },
  {
   "attachments": {},
   "cell_type": "markdown",
   "id": "94501aee",
   "metadata": {},
   "source": [
    "* 1) #### Crea una lista con el fin de ordenar los nombres de los archivos guardados en el anterior diccionario.\n",
    "* 2) #### Crea una lista de palabras limpias y ordenadas a través de los valores del diccionario, iterando los valores anteriormente ordenados de sus claves.\n",
    "* 3) #### Crea una lista de índices a los que se les aplicará una condición.\n",
    "* 4) #### Crea la variable *'joke'* y la llena con las palabras ordenadas aplicando una condición (para poner, o no, un espacio previo a la palabra) dependiendo de su índice."
   ]
  },
  {
   "cell_type": "code",
   "execution_count": 57,
   "id": "ea0c888d",
   "metadata": {},
   "outputs": [
    {
     "name": "stdout",
     "output_type": "stream",
     "text": [
      "In data science, 80 percent of time spent is preparing data, 20 percent of time is spent complaining about the need to prepare data.\n"
     ]
    }
   ],
   "source": [
    "# 1\n",
    "ks = [k[1:5] for k in words.keys() if k[0] == '.']\n",
    "ks.sort()\n",
    "# 2\n",
    "words_filter = [v.strip('\\n') for i in ks for k,v in words.items() if i in k]\n",
    "# 3\n",
    "index_list = [i for i in range(1,len(words_filter))]\n",
    "# 4\n",
    "joke = \"\"\n",
    "for i in words_filter:\n",
    "    if words_filter.index(i) in index_list:\n",
    "        joke+=f\" {i}\"\n",
    "    else:\n",
    "        joke+=i\n",
    "print(joke)"
   ]
  }
 ],
 "metadata": {
  "kernelspec": {
   "display_name": "base",
   "language": "python",
   "name": "python3"
  },
  "language_info": {
   "codemirror_mode": {
    "name": "ipython",
    "version": 3
   },
   "file_extension": ".py",
   "mimetype": "text/x-python",
   "name": "python",
   "nbconvert_exporter": "python",
   "pygments_lexer": "ipython3",
   "version": "3.10.9"
  },
  "toc": {
   "base_numbering": 1,
   "nav_menu": {},
   "number_sections": true,
   "sideBar": true,
   "skip_h1_title": true,
   "title_cell": "Table of Contents",
   "title_sidebar": "Contents",
   "toc_cell": false,
   "toc_position": {},
   "toc_section_display": true,
   "toc_window_display": true
  },
  "vscode": {
   "interpreter": {
    "hash": "187a720b13c0aae4c4e5c8f608d831825e55f8a67dcfa22fa687d5211c84fa12"
   }
  }
 },
 "nbformat": 4,
 "nbformat_minor": 5
}
