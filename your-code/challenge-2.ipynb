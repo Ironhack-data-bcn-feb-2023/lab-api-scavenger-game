{
 "cells": [
  {
   "cell_type": "markdown",
   "id": "threaded-asbestos",
   "metadata": {},
   "source": [
    "# Challenge 2: Count Commits\n",
    "\n",
    "Count how many commits were made in the past week.\n",
    "\n",
    "Obtain all the commits made in the past week via API, which is a JSON array that contains multiple commit objects.\n",
    "\n",
    "Count how many commit objects are contained in the array."
   ]
  },
  {
   "cell_type": "markdown",
   "id": "norwegian-praise",
   "metadata": {},
   "source": [
    "⚠️ **Remember to limit your output before submission**."
   ]
  },
  {
   "cell_type": "code",
   "execution_count": 1,
   "id": "developing-printing",
   "metadata": {},
   "outputs": [],
   "source": [
    "import json\n",
    "import requests\n",
    "import os\n",
    "from dotenv import load_dotenv\n",
    "load_dotenv()\n",
    "\n",
    "token = os.getenv(\"token\")"
   ]
  },
  {
   "cell_type": "code",
   "execution_count": 2,
   "id": "e5d67d2e",
   "metadata": {},
   "outputs": [],
   "source": [
    "user     = \"ironhack-datalabs\"\n",
    "repo     = \"datamad1020-rev\"\n",
    "repo_url = f\"https://api.github.com/repos/{user}/{repo}/forks\"\n",
    "headers  = {'Authentication':f'token {token}'}"
   ]
  },
  {
   "cell_type": "code",
   "execution_count": 17,
   "id": "16016f36",
   "metadata": {},
   "outputs": [],
   "source": [
    "commits_urls = []\n",
    "\n",
    "response = requests.get(repo_url, headers=headers)\n",
    "if response.status_code == 200:\n",
    "    data = response.json()\n",
    "    for i in data:\n",
    "        for k,v in i.items():\n",
    "            if k == 'commits_url':\n",
    "                commits_urls.append(v[:-6])\n",
    "else:\n",
    "    print(f\"Error: {response.status_code}\")"
   ]
  },
  {
   "cell_type": "code",
   "execution_count": 18,
   "id": "17a0ea90",
   "metadata": {},
   "outputs": [
    {
     "name": "stdout",
     "output_type": "stream",
     "text": [
      "https://api.github.com/repos/queraltic/datamad1020-rev/commits\n"
     ]
    }
   ],
   "source": [
    "print(commits_urls[0])"
   ]
  },
  {
   "cell_type": "code",
   "execution_count": 28,
   "id": "ba717802",
   "metadata": {},
   "outputs": [
    {
     "name": "stdout",
     "output_type": "stream",
     "text": [
      "2022-07-21\n",
      "2021-08-26\n",
      "2021-08-26\n",
      "2021-03-24\n",
      "2021-01-26\n",
      "2021-01-26\n",
      "2020-11-12\n",
      "2020-12-07\n",
      "2020-12-07\n",
      "2020-10-25\n",
      "2020-11-27\n",
      "2020-12-07\n",
      "2020-11-12\n",
      "2020-12-07\n",
      "2020-11-27\n",
      "2020-12-07\n",
      "2020-12-07\n",
      "2020-11-12\n",
      "2020-11-27\n",
      "2020-12-07\n",
      "2020-12-07\n",
      "2020-12-07\n",
      "2020-11-27\n",
      "2020-11-12\n",
      "2020-12-07\n",
      "2020-12-07\n"
     ]
    }
   ],
   "source": [
    "for i in commits_urls:\n",
    "    response = requests.get(i,headers=headers)\n",
    "    if response.status_code == 200:\n",
    "        data = response.json()\n",
    "        print(data[0]['commit']['author']['date'].split('T')[0])\n",
    "    else:\n",
    "        print(f\"Error: {response.status_code}\")"
   ]
  },
  {
   "attachments": {},
   "cell_type": "markdown",
   "id": "f3faeee9",
   "metadata": {},
   "source": [
    "### No existen commits en la última semana. El último commit fue el 2022-07-21."
   ]
  },
  {
   "cell_type": "code",
   "execution_count": 30,
   "id": "801fc17d",
   "metadata": {},
   "outputs": [
    {
     "name": "stdout",
     "output_type": "stream",
     "text": [
      "El número total de commits es de: 26\n"
     ]
    }
   ],
   "source": [
    "n=0\n",
    "for i in commits_urls:\n",
    "    n+=1\n",
    "print(f\"El número total de commits es de: {n}\")"
   ]
  }
 ],
 "metadata": {
  "kernelspec": {
   "display_name": "base",
   "language": "python",
   "name": "python3"
  },
  "language_info": {
   "codemirror_mode": {
    "name": "ipython",
    "version": 3
   },
   "file_extension": ".py",
   "mimetype": "text/x-python",
   "name": "python",
   "nbconvert_exporter": "python",
   "pygments_lexer": "ipython3",
   "version": "3.10.9 | packaged by conda-forge | (main, Jan 11 2023, 15:15:40) [MSC v.1916 64 bit (AMD64)]"
  },
  "toc": {
   "base_numbering": 1,
   "nav_menu": {},
   "number_sections": true,
   "sideBar": true,
   "skip_h1_title": true,
   "title_cell": "Table of Contents",
   "title_sidebar": "Contents",
   "toc_cell": false,
   "toc_position": {
    "height": "calc(100% - 180px)",
    "left": "10px",
    "top": "150px",
    "width": "288px"
   },
   "toc_section_display": true,
   "toc_window_display": true
  },
  "vscode": {
   "interpreter": {
    "hash": "187a720b13c0aae4c4e5c8f608d831825e55f8a67dcfa22fa687d5211c84fa12"
   }
  }
 },
 "nbformat": 4,
 "nbformat_minor": 5
}
