{
 "cells": [
  {
   "cell_type": "markdown",
   "id": "threaded-asbestos",
   "metadata": {},
   "source": [
    "# Challenge 2: Count Commits\n",
    "\n",
    "Count how many commits were made in the past week.\n",
    "\n",
    "Obtain all the commits made in the past week via API, which is a JSON array that contains multiple commit objects.\n",
    "\n",
    "Count how many commit objects are contained in the array."
   ]
  },
  {
   "cell_type": "markdown",
   "id": "norwegian-praise",
   "metadata": {},
   "source": [
    "⚠️ **Remember to limit your output before submission**."
   ]
  },
  {
   "cell_type": "code",
   "execution_count": 1,
   "id": "36b12018",
   "metadata": {},
   "outputs": [],
   "source": [
    "import os\n",
    "import requests\n",
    "from dotenv import load_dotenv #conda install -c conda-forge python-dotenv\n",
    "import getpass\n",
    "from datetime import datetime, timedelta"
   ]
  },
  {
   "cell_type": "code",
   "execution_count": 2,
   "id": "b9c1e804",
   "metadata": {},
   "outputs": [
    {
     "name": "stdout",
     "output_type": "stream",
     "text": [
      "token_github········\n"
     ]
    }
   ],
   "source": [
    "password = getpass.getpass('token_github') # uso la libreria getpass porque load_dotenv no me funciona\n",
    "#en password tengo guardado el token de github"
   ]
  },
  {
   "cell_type": "code",
   "execution_count": 3,
   "id": "4de9d551",
   "metadata": {},
   "outputs": [],
   "source": [
    "user = 'ironhack-datalabs'\n",
    "repo = 'datamad1020-rev'\n",
    "\n",
    "url_base = f\"https://api.github.com/repos/{user}/{repo}/commits\""
   ]
  },
  {
   "cell_type": "code",
   "execution_count": 4,
   "id": "63cf6604",
   "metadata": {},
   "outputs": [],
   "source": [
    "params1 = {\"Authentication\": f\"token {password}\"}"
   ]
  },
  {
   "cell_type": "code",
   "execution_count": 5,
   "id": "b4a2445c",
   "metadata": {},
   "outputs": [
    {
     "data": {
      "text/plain": [
       "30"
      ]
     },
     "execution_count": 5,
     "metadata": {},
     "output_type": "execute_result"
    }
   ],
   "source": [
    "res1 = requests.get(url_base, params=params1).json()\n",
    "number_commits = len(res1) \n",
    "number_commits #Número total de commits en la array es 30, sin filtrar por fecha "
   ]
  },
  {
   "cell_type": "code",
   "execution_count": 6,
   "id": "1eb764e1",
   "metadata": {
    "scrolled": true
   },
   "outputs": [
    {
     "name": "stdout",
     "output_type": "stream",
     "text": [
      "['2022-07-21T16:02:45Z', '2021-08-26T14:17:20Z', '2021-06-17T14:03:57Z', '2021-03-24T18:55:39Z', '2021-01-26T13:00:09Z', '2020-12-07T14:44:17Z', '2020-11-27T15:11:12Z', '2020-11-27T14:53:46Z', '2020-11-27T09:47:17Z', '2020-11-27T09:41:29Z', '2020-11-12T23:27:48Z', '2020-11-12T23:22:51Z', '2020-11-12T18:26:54Z', '2020-11-10T19:19:52Z', '2020-11-10T19:19:49Z', '2020-11-10T08:28:18Z', '2020-11-06T10:03:48Z', '2020-11-06T10:02:37Z', '2020-11-05T23:04:53Z', '2020-11-05T23:02:33Z', '2020-11-04T19:04:32Z', '2020-11-02T16:47:51Z', '2020-10-30T09:29:13Z', '2020-10-30T09:23:03Z', '2020-10-30T09:22:04Z', '2020-10-29T15:59:33Z', '2020-10-29T15:59:17Z', '2020-10-29T14:57:00Z', '2020-10-29T14:56:29Z', '2020-10-29T14:54:12Z']\n"
     ]
    }
   ],
   "source": [
    "#La fecha cuando se hizo el commit está dentro de la key commit y committer (mismas fechas)\n",
    "fecha_pre = []\n",
    "for i in res1:\n",
    "    datos = i['commit'] # primero accedo al commit\n",
    "    fecha_pre.append(datos)\n",
    "fecha_pre\n",
    "\n",
    "\n",
    "fecha = []\n",
    "for i in fecha_pre: \n",
    "    datos1 = i['author']['date'] # del commit accedo al autor y a la key date\n",
    "    fecha.append(datos1)\n",
    "print(fecha)\n",
    "\n"
   ]
  },
  {
   "cell_type": "code",
   "execution_count": 7,
   "id": "8a971451",
   "metadata": {},
   "outputs": [],
   "source": [
    "def fechas (res1): \n",
    "    fecha_pre = [i['commit'] for i in res1]\n",
    "    \n",
    "    fecha = [i['author']['date'] for i in fecha_pre]\n",
    "    \n",
    "    fecha_def = [i.replace(i[10:20],'') for i in fecha]\n",
    "    \n",
    "    return fecha_def"
   ]
  },
  {
   "cell_type": "code",
   "execution_count": 8,
   "id": "b8caa04d",
   "metadata": {},
   "outputs": [
    {
     "data": {
      "text/plain": [
       "30"
      ]
     },
     "execution_count": 8,
     "metadata": {},
     "output_type": "execute_result"
    }
   ],
   "source": [
    "date_ = fechas (res1)\n",
    "len(date_) # coincide con el número total de commits por lo que filtramos por las fechas de la semana pasada"
   ]
  }
 ],
 "metadata": {
  "kernelspec": {
   "display_name": "Python 3 (ipykernel)",
   "language": "python",
   "name": "python3"
  },
  "language_info": {
   "codemirror_mode": {
    "name": "ipython",
    "version": 3
   },
   "file_extension": ".py",
   "mimetype": "text/x-python",
   "name": "python",
   "nbconvert_exporter": "python",
   "pygments_lexer": "ipython3",
   "version": "3.9.13"
  },
  "toc": {
   "base_numbering": 1,
   "nav_menu": {},
   "number_sections": true,
   "sideBar": true,
   "skip_h1_title": true,
   "title_cell": "Table of Contents",
   "title_sidebar": "Contents",
   "toc_cell": false,
   "toc_position": {
    "height": "calc(100% - 180px)",
    "left": "10px",
    "top": "150px",
    "width": "288px"
   },
   "toc_section_display": true,
   "toc_window_display": true
  }
 },
 "nbformat": 4,
 "nbformat_minor": 5
}
