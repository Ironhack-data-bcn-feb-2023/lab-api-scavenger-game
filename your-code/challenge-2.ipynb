{
 "cells": [
  {
   "cell_type": "markdown",
   "id": "threaded-asbestos",
   "metadata": {},
   "source": [
    "# Challenge 2: Count Commits\n",
    "\n",
    "Count how many commits were made in the past week.\n",
    "\n",
    "Obtain all the commits made in the past week via API, which is a JSON array that contains multiple commit objects.\n",
    "\n",
    "Count how many commit objects are contained in the array."
   ]
  },
  {
   "cell_type": "code",
   "execution_count": 1,
   "id": "2cd99172",
   "metadata": {},
   "outputs": [],
   "source": [
    "import requests\n",
    "from datetime import datetime, timedelta"
   ]
  },
  {
   "cell_type": "markdown",
   "id": "norwegian-praise",
   "metadata": {},
   "source": [
    "⚠️ **Remember to limit your output before submission**."
   ]
  },
  {
   "cell_type": "code",
   "execution_count": 2,
   "id": "developing-printing",
   "metadata": {},
   "outputs": [
    {
     "ename": "TypeError",
     "evalue": "string indices must be integers, not 'str'",
     "output_type": "error",
     "traceback": [
      "\u001b[0;31m---------------------------------------------------------------------------\u001b[0m",
      "\u001b[0;31mTypeError\u001b[0m                                 Traceback (most recent call last)",
      "Cell \u001b[0;32mIn[2], line 15\u001b[0m\n\u001b[1;32m     12\u001b[0m total_commits \u001b[39m=\u001b[39m \u001b[39m0\u001b[39m\n\u001b[1;32m     14\u001b[0m \u001b[39mfor\u001b[39;00m fork \u001b[39min\u001b[39;00m forks:\n\u001b[0;32m---> 15\u001b[0m     commits_url \u001b[39m=\u001b[39m fork[\u001b[39m'\u001b[39;49m\u001b[39mcommits_url\u001b[39;49m\u001b[39m'\u001b[39;49m]\u001b[39m.\u001b[39msplit(\u001b[39m\"\u001b[39m\u001b[39m{\u001b[39m\u001b[39m\"\u001b[39m)[\u001b[39m0\u001b[39m]\n\u001b[1;32m     17\u001b[0m     params \u001b[39m=\u001b[39m {\n\u001b[1;32m     18\u001b[0m         \u001b[39m'\u001b[39m\u001b[39msince\u001b[39m\u001b[39m'\u001b[39m: date_week_ago,\n\u001b[1;32m     19\u001b[0m     }\n\u001b[1;32m     21\u001b[0m     response \u001b[39m=\u001b[39m requests\u001b[39m.\u001b[39mget(commits_url, headers\u001b[39m=\u001b[39mheaders, params\u001b[39m=\u001b[39mparams)\n",
      "\u001b[0;31mTypeError\u001b[0m: string indices must be integers, not 'str'"
     ]
    }
   ],
   "source": [
    "url = f\"https://api.github.com/repos/ironhack-datalabs/datamad1020-rev/forks\"\n",
    "\n",
    "headers = {\n",
    "    'Authorization': 'Token YOUR_GITHUB_TOKEN', # replace 'YOUR_GITHUB_TOKEN' with your actual GitHub Personal Access Token\n",
    "    'Accept': 'application/vnd.github.v3+json',}\n",
    "\n",
    "response = requests.get(url, headers=headers)\n",
    "forks = response.json()\n",
    "\n",
    "date_week_ago = (datetime.now() - timedelta(weeks=1)).isoformat()\n",
    "\n",
    "total_commits = 0\n",
    "\n",
    "for fork in forks:\n",
    "    commits_url = fork['commits_url'].split(\"{\")[0]\n",
    "    \n",
    "    params = {\n",
    "        'since': date_week_ago,\n",
    "    }\n",
    "    \n",
    "    response = requests.get(commits_url, headers=headers, params=params)\n",
    "    commits = response.json()\n",
    "\n",
    "    total_commits += len(commits)\n",
    "\n",
    "print(f\"Total commits in the past week: {total_commits}\")\n"
   ]
  },
  {
   "cell_type": "code",
   "execution_count": 2,
   "id": "creative-stable",
   "metadata": {},
   "outputs": [],
   "source": [
    "# Example: print(variable[:10]) "
   ]
  },
  {
   "cell_type": "code",
   "execution_count": null,
   "id": "ongoing-taylor",
   "metadata": {},
   "outputs": [],
   "source": []
  }
 ],
 "metadata": {
  "kernelspec": {
   "display_name": "Python 3",
   "language": "python",
   "name": "python3"
  },
  "language_info": {
   "codemirror_mode": {
    "name": "ipython",
    "version": 3
   },
   "file_extension": ".py",
   "mimetype": "text/x-python",
   "name": "python",
   "nbconvert_exporter": "python",
   "pygments_lexer": "ipython3",
   "version": "3.11.3"
  },
  "toc": {
   "base_numbering": 1,
   "nav_menu": {},
   "number_sections": true,
   "sideBar": true,
   "skip_h1_title": true,
   "title_cell": "Table of Contents",
   "title_sidebar": "Contents",
   "toc_cell": false,
   "toc_position": {
    "height": "calc(100% - 180px)",
    "left": "10px",
    "top": "150px",
    "width": "288px"
   },
   "toc_section_display": true,
   "toc_window_display": true
  }
 },
 "nbformat": 4,
 "nbformat_minor": 5
}
